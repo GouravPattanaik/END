{
 "cells": [
  {
   "cell_type": "markdown",
   "metadata": {},
   "source": [
    "Question 1 :: Write a function using only list filter lambda that can tell whether a number is a Fibonacci number or not. You can use a pre-calculated list/dict to store fab numbers till 10000"
   ]
  },
  {
   "cell_type": "code",
   "execution_count": 36,
   "metadata": {},
   "outputs": [],
   "source": [
    "import math\n",
    "import requests\n",
    "from functools import reduce\n",
    "import string\n",
    "import random"
   ]
  },
  {
   "cell_type": "code",
   "execution_count": 1,
   "metadata": {},
   "outputs": [],
   "source": [
    "# Function stores list of Fibonacci numbers\n",
    "def fs(n):\n",
    "    '''\n",
    "    This function returns a list of Fibonacci numbers\n",
    "    '''\n",
    "    l = range(0,n)\n",
    "    k = []\n",
    "    for i in l:\n",
    "        if l[i] in(0,1):\n",
    "            k.append(l[i])\n",
    "        else:\n",
    "            k.append(k[i-1]+k[i-2])\n",
    "            if k[-1] > 10000:\n",
    "                break\n",
    "    return k[0:-1]\n",
    "    \n",
    "def fibonacci_series(num=int)->bool:\n",
    "    '''\n",
    "    This function checks if the number provided is a number in Fibonacci series\n",
    "    '''\n",
    "    if num>10000:\n",
    "        raise ValueError(\"The function doesn't check for numbers above 10,000\")\n",
    "\n",
    "    series = fs(22)\n",
    "    num_list=[num]\n",
    "    return bool((list(filter(lambda x: True if x in series else False,num_list))))"
   ]
  },
  {
   "cell_type": "code",
   "execution_count": 8,
   "metadata": {},
   "outputs": [
    {
     "data": {
      "text/plain": [
       "False"
      ]
     },
     "execution_count": 8,
     "metadata": {},
     "output_type": "execute_result"
    }
   ],
   "source": [
    "fibonacci_series(1888)"
   ]
  },
  {
   "cell_type": "markdown",
   "metadata": {},
   "source": [
    "Question 2:: Using list comprehension (and zip/lambda/etc if required) write five different expressions that: PTS:100\n",
    "add 2 iterables a and b such that a is even and b is odd\n",
    "strips every vowel from a string provided (tsai>>t s)\n",
    "acts like a ReLU function for a 1D array\n",
    "acts like a sigmoid function for a 1D array\n",
    "takes a small character string and shifts all characters by 5 (handle boundary conditions) tsai>>yxfn"
   ]
  },
  {
   "cell_type": "code",
   "execution_count": 47,
   "metadata": {},
   "outputs": [],
   "source": [
    "# 2.1. add 2 iterables a and b such that a is even and b is odd\n",
    "def add_even_odd_list(l1 = list, l2 = list)->list:\n",
    "    '''\n",
    "    This function adds 2 iterables a and b such that a is even and b is odd\n",
    "    '''\n",
    "    result = [x+y for x,y in zip(l1,l2) if x%2==0 and y%2==1]\n",
    "    return result\n",
    "\n",
    "# 2.2. strips every vowel from a string provided (tsai>>t s)\n",
    "def remove_vowel(in_str = str)->str:\n",
    "    '''\n",
    "    This function strips every vowel from a string provided\n",
    "    '''\n",
    "    if not isinstance(in_str,str):\n",
    "        raise TypeError(\"Only strings allowed as input\")\n",
    "    vowel = 'aeiouAEIOU'\n",
    "    result = ''.join(i for i in in_str if i not in vowel )\n",
    "    return result\n",
    "\n",
    "#2.3. Acts like a ReLU function for a 1D array\n",
    "def fn_relu(in_list = list)->list:\n",
    "    '''\n",
    "    This function applies ReLU function to each elements of the provided list\n",
    "    '''\n",
    "    result = [0 if x < 0 else x for x in in_list]\n",
    "    return result\n",
    "\n",
    "\n",
    "#2.4. Acts like a sigmoid function for a 1D array\n",
    "def fn_sigmoid(in_list = list)->list:\n",
    "    '''\n",
    "    This function applies Sigmoid function to each elements of the provided list\n",
    "    '''\n",
    "    result = [round(1/(1+math.exp(-x)),2) for x in in_list]\n",
    "    return result\n",
    "\n",
    "#2.5. Takes a small character string and shifts all characters by 5 (handle boundary conditions)\n",
    "def shift_char_5(in_str = str)->str:\n",
    "    '''\n",
    "    This function shifts all characters by 5 for a string provided\n",
    "    '''\n",
    "    if not isinstance(in_str,str):\n",
    "        raise TypeError(\"Only strings allowed as input\")\n",
    "        \n",
    "    result = [chr(ord(x)+5) if ord(x)<117 else chr(ord(x)-21) for x in in_str.lower()]\n",
    "    return \"\".join(result)"
   ]
  },
  {
   "cell_type": "code",
   "execution_count": 11,
   "metadata": {},
   "outputs": [
    {
     "data": {
      "text/plain": [
       "[7, 11]"
      ]
     },
     "execution_count": 11,
     "metadata": {},
     "output_type": "execute_result"
    }
   ],
   "source": [
    "add_even_odd_list([1,2,4],[4,5,7])"
   ]
  },
  {
   "cell_type": "code",
   "execution_count": 48,
   "metadata": {},
   "outputs": [
    {
     "data": {
      "text/plain": [
       "'ndBgns'"
      ]
     },
     "execution_count": 48,
     "metadata": {},
     "output_type": "execute_result"
    }
   ],
   "source": [
    "remove_vowel('EndBegins')"
   ]
  },
  {
   "cell_type": "code",
   "execution_count": 13,
   "metadata": {},
   "outputs": [
    {
     "data": {
      "text/plain": [
       "[0, 1, 23456, 0]"
      ]
     },
     "execution_count": 13,
     "metadata": {},
     "output_type": "execute_result"
    }
   ],
   "source": [
    "fn_relu([-20,1,23456,-98989])"
   ]
  },
  {
   "cell_type": "code",
   "execution_count": 16,
   "metadata": {},
   "outputs": [
    {
     "data": {
      "text/plain": [
       "[0.98, 0.0, 0.88, 1.0]"
      ]
     },
     "execution_count": 16,
     "metadata": {},
     "output_type": "execute_result"
    }
   ],
   "source": [
    "fn_sigmoid([4,-9,2,777])"
   ]
  },
  {
   "cell_type": "code",
   "execution_count": 17,
   "metadata": {},
   "outputs": [
    {
     "data": {
      "text/plain": [
       "'jsigjlnsx'"
      ]
     },
     "execution_count": 17,
     "metadata": {},
     "output_type": "execute_result"
    }
   ],
   "source": [
    "shift_char_5('EndBegins')"
   ]
  },
  {
   "cell_type": "markdown",
   "metadata": {},
   "source": [
    "Question 3:: A list comprehension expression that takes a ~200 word paragraph (write your own paragraph to check), and checks whether it has any of the swear words mentioned in \n",
    "https://github.com/RobertJGabriel/Google-profanity-words/blob/master/list.txt"
   ]
  },
  {
   "cell_type": "code",
   "execution_count": 23,
   "metadata": {},
   "outputs": [],
   "source": [
    "def profanity_check(text) -> str:\n",
    "    '''\n",
    "    This function checks whether it has any of the swear words mentioned in https://github.com/RobertJGabriel/Google-profanity-words/blob/master/list.txt\n",
    "    '''\n",
    "    f = open(\"swear_list.txt\", \"r\")\n",
    "    swear_list = [l.rstrip() for l in f.readlines()]\n",
    "    return bool([r for r in text.split(\" \") if any(z in r for z in swear_list)])"
   ]
  },
  {
   "cell_type": "code",
   "execution_count": 25,
   "metadata": {},
   "outputs": [
    {
     "data": {
      "text/plain": [
       "True"
      ]
     },
     "execution_count": 25,
     "metadata": {},
     "output_type": "execute_result"
    }
   ],
   "source": [
    "profanity_check('xxx')"
   ]
  },
  {
   "cell_type": "markdown",
   "metadata": {},
   "source": [
    "Question 4:: Using reduce functions:\n",
    " 1. add only even numbers in a list\n",
    " 2. find the biggest character in a string (printable ascii characters)\n",
    " 3. adds every 3rd number in a list"
   ]
  },
  {
   "cell_type": "code",
   "execution_count": 26,
   "metadata": {},
   "outputs": [],
   "source": [
    "#   4.1 Using reduce function - add only even numbers in a list\n",
    "def add_even(in_list = list)->list:\n",
    "    '''\n",
    "    This function that adds only even numbers in the provided list\n",
    "    '''\n",
    "    result = reduce(lambda a,b: a+b if a%2==0 and b%2==0 else (b if a%2!=0 and b%2==0 else (a if a%2==0 and b%2!=0 else 0)),in_list)\n",
    "    return result\n",
    "\n",
    "#   4.2 Using reduce function - find the biggest character in a string (printable ascii characters)\n",
    "def biggest_character(in_str = str)->str:\n",
    "    '''\n",
    "    This function finds the biggest character in a string (printable ascii characters)\n",
    "    '''\n",
    "    if not isinstance(in_str,str):\n",
    "        raise TypeError(\"Only strings allowed as input\")\n",
    "\n",
    "    result = reduce(lambda a,b: a if ord(a)>ord(b) else b,in_str)\n",
    "    return result\n",
    "\n",
    "#   4.3 Using reduce function - adds every 3rd number in a list\n",
    "def every_3rd_add(in_list = list)->list:\n",
    "    '''\n",
    "    This function that adds every 3rd number in the provided list\n",
    "    '''\n",
    "    result = reduce(lambda a,b: a if in_list.index(b)%2!=0 else a+b,in_list)\n",
    "    return result"
   ]
  },
  {
   "cell_type": "code",
   "execution_count": 28,
   "metadata": {},
   "outputs": [
    {
     "data": {
      "text/plain": [
       "26"
      ]
     },
     "execution_count": 28,
     "metadata": {},
     "output_type": "execute_result"
    }
   ],
   "source": [
    "add_even([12,13,14])"
   ]
  },
  {
   "cell_type": "code",
   "execution_count": 30,
   "metadata": {},
   "outputs": [
    {
     "data": {
      "text/plain": [
       "'s'"
      ]
     },
     "execution_count": 30,
     "metadata": {},
     "output_type": "execute_result"
    }
   ],
   "source": [
    "biggest_character('EndBegins')"
   ]
  },
  {
   "cell_type": "code",
   "execution_count": 32,
   "metadata": {},
   "outputs": [
    {
     "data": {
      "text/plain": [
       "18"
      ]
     },
     "execution_count": 32,
     "metadata": {},
     "output_type": "execute_result"
    }
   ],
   "source": [
    "every_3rd_add([4,5,6,7,8])"
   ]
  },
  {
   "cell_type": "markdown",
   "metadata": {},
   "source": [
    "Question 5:: Using randint, random.choice and list comprehensions, \n",
    "write an expression that generates 15 random KADDAADDDD number plates, where KA is fixed, \n",
    "D stands for a digit, and A stands for Capital alphabets. \n",
    "10<<DD<<99 & 1000<<DDDD<<9999"
   ]
  },
  {
   "cell_type": "code",
   "execution_count": 40,
   "metadata": {},
   "outputs": [],
   "source": [
    "def generate_number_plate() -> str:\n",
    "    '''\n",
    "    This function that generates 15 random number plates starting with KA\n",
    "    '''\n",
    "    return ['KA' + str(random.randint(10,100)) + random.choice(string.ascii_uppercase) +random.choice(string.ascii_uppercase) + str(random.randint(1000,10000)) for i in range(15)]\n"
   ]
  },
  {
   "cell_type": "code",
   "execution_count": 41,
   "metadata": {},
   "outputs": [
    {
     "data": {
      "text/plain": [
       "['KA88IN4062',\n",
       " 'KA41CP2397',\n",
       " 'KA64SZ6062',\n",
       " 'KA10VH2248',\n",
       " 'KA52SO7853',\n",
       " 'KA13GY7361',\n",
       " 'KA26ZY8491',\n",
       " 'KA80WY3955',\n",
       " 'KA16IW8443',\n",
       " 'KA10AD2480',\n",
       " 'KA35FG8893',\n",
       " 'KA71BC6560',\n",
       " 'KA19MP4731',\n",
       " 'KA20LJ9337',\n",
       " 'KA45XJ9582']"
      ]
     },
     "execution_count": 41,
     "metadata": {},
     "output_type": "execute_result"
    }
   ],
   "source": [
    "generate_number_plate()"
   ]
  },
  {
   "cell_type": "markdown",
   "metadata": {},
   "source": [
    "Question 6 :: Write the above again from scratch where KA can be changed to DL, \n",
    "and 1000/9999 ranges can be provided"
   ]
  },
  {
   "cell_type": "code",
   "execution_count": 45,
   "metadata": {},
   "outputs": [],
   "source": [
    "def generate_number_plate_2() -> str:\n",
    "    '''\n",
    "    This function that generates 15 random number plates starting with DL\n",
    "    '''\n",
    "    N=15\n",
    "    DDDD = lambda x,y: random.randint(x, y)\n",
    "    DD = lambda x: random.randint(10,99)\n",
    "    A  = lambda x: random.choice(list(string.ascii_uppercase))\n",
    "    func = lambda x,y:  'DL'+str(DD(0))+A(0)+A(0)+str(DDDD(x,y))\n",
    "    NumberPlateNums = [func(1000,2000) for N in range(N)]\n",
    "    return NumberPlateNums"
   ]
  },
  {
   "cell_type": "code",
   "execution_count": 46,
   "metadata": {},
   "outputs": [
    {
     "data": {
      "text/plain": [
       "['DL73OP1896',\n",
       " 'DL97DG1849',\n",
       " 'DL98IE1309',\n",
       " 'DL29XP1716',\n",
       " 'DL52VA1072',\n",
       " 'DL18WQ1170',\n",
       " 'DL14ME1727',\n",
       " 'DL18GW1598',\n",
       " 'DL34BP1410',\n",
       " 'DL27NP1386',\n",
       " 'DL76FE1734',\n",
       " 'DL52CE1879',\n",
       " 'DL66EN1097',\n",
       " 'DL93FE1988',\n",
       " 'DL77UI1064']"
      ]
     },
     "execution_count": 46,
     "metadata": {},
     "output_type": "execute_result"
    }
   ],
   "source": [
    "generate_number_plate_2()"
   ]
  },
  {
   "cell_type": "code",
   "execution_count": null,
   "metadata": {},
   "outputs": [],
   "source": []
  }
 ],
 "metadata": {
  "kernelspec": {
   "display_name": "Python 3",
   "language": "python",
   "name": "python3"
  },
  "language_info": {
   "codemirror_mode": {
    "name": "ipython",
    "version": 3
   },
   "file_extension": ".py",
   "mimetype": "text/x-python",
   "name": "python",
   "nbconvert_exporter": "python",
   "pygments_lexer": "ipython3",
   "version": "3.7.9"
  }
 },
 "nbformat": 4,
 "nbformat_minor": 4
}
